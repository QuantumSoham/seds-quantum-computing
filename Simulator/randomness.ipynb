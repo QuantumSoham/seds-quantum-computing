{
 "cells": [
  {
   "attachments": {},
   "cell_type": "markdown",
   "metadata": {},
   "source": [
    "# Truly Random"
   ]
  },
  {
   "cell_type": "code",
   "execution_count": 2,
   "metadata": {},
   "outputs": [],
   "source": [
    "from qiskit import *\n",
    "from qiskit.tools.visualization import plot_histogram"
   ]
  },
  {
   "attachments": {},
   "cell_type": "markdown",
   "metadata": {},
   "source": [
    "## A Truly Random bit 😂"
   ]
  },
  {
   "cell_type": "code",
   "execution_count": 5,
   "metadata": {},
   "outputs": [
    {
     "name": "stdout",
     "output_type": "stream",
     "text": [
      "Random bit:  1\n"
     ]
    }
   ],
   "source": [
    "random_circuit = QuantumCircuit(1, 1)\n",
    "\n",
    "#\n",
    "random_circuit.h(0)\n",
    "\n",
    "# \n",
    "random_circuit.measure(0, 0)\n",
    "\n",
    "# \n",
    "backend = Aer.get_backend('qasm_simulator')\n",
    "job = execute(random_circuit, backend, shots=1)\n",
    "result = job.result()\n",
    "bit = int(list(result.get_counts().keys())[0])\n",
    "\n",
    "print(\"Random bit: \", bit)"
   ]
  },
  {
   "attachments": {},
   "cell_type": "markdown",
   "metadata": {},
   "source": [
    "## How about in the range of 0-100"
   ]
  },
  {
   "cell_type": "code",
   "execution_count": 117,
   "metadata": {},
   "outputs": [
    {
     "name": "stdout",
     "output_type": "stream",
     "text": [
      "Random Number:  58\n"
     ]
    }
   ],
   "source": [
    "circuit = QuantumCircuit(7, 7)\n",
    "\n",
    "#\n",
    "for i in range(7):\n",
    "    circuit.h(i)\n",
    "# \n",
    "for i in range(7):\n",
    "    circuit.measure(i,i)\n",
    "# \n",
    "backend = Aer.get_backend('qasm_simulator')\n",
    "job = execute(circuit, backend, shots=1)\n",
    "result = job.result()\n",
    "bit = int(list(result.get_counts().keys())[0],2)\n",
    "\n",
    "while bit>100:\n",
    "    job = execute(circuit, backend, shots=1)\n",
    "    result = job.result()\n",
    "    bit = int(list(result.get_counts().keys())[0],2)\n",
    "print(\"Random Number: \", bit)"
   ]
  }
 ],
 "metadata": {
  "kernelspec": {
   "display_name": "Python 3",
   "language": "python",
   "name": "python3"
  },
  "language_info": {
   "codemirror_mode": {
    "name": "ipython",
    "version": 3
   },
   "file_extension": ".py",
   "mimetype": "text/x-python",
   "name": "python",
   "nbconvert_exporter": "python",
   "pygments_lexer": "ipython3",
   "version": "3.8.9"
  },
  "orig_nbformat": 4,
  "vscode": {
   "interpreter": {
    "hash": "31f2aee4e71d21fbe5cf8b01ff0e069b9275f58929596ceb00d14d90e3e16cd6"
   }
  }
 },
 "nbformat": 4,
 "nbformat_minor": 2
}

{
 "cells": [
  {
   "attachments": {},
   "cell_type": "markdown",
   "metadata": {},
   "source": [
    "# Truly Random"
   ]
  },
  {
   "cell_type": "code",
   "execution_count": 2,
   "metadata": {},
   "outputs": [],
   "source": [
    "from qiskit import *\n",
    "import ipywidgets as pyw\n",
    "from IPython.display import display,clear_output\n",
    "from qiskit.tools.visualization import plot_histogram"
   ]
  },
  {
   "attachments": {},
   "cell_type": "markdown",
   "metadata": {},
   "source": [
    "## A Truly Random bit 😂"
   ]
  },
  {
   "cell_type": "code",
   "execution_count": 3,
   "metadata": {},
   "outputs": [
    {
     "name": "stdout",
     "output_type": "stream",
     "text": [
      "Random bit:  1\n"
     ]
    }
   ],
   "source": [
    "random_circuit = QuantumCircuit(1, 1)\n",
    "\n",
    "#\n",
    "random_circuit.h(0)\n",
    "\n",
    "# \n",
    "random_circuit.measure(0, 0)\n",
    "\n",
    "# \n",
    "backend = Aer.get_backend('qasm_simulator')\n",
    "job = execute(random_circuit, backend, shots=1)\n",
    "result = job.result()\n",
    "bit = int(list(result.get_counts().keys())[0])\n",
    "\n",
    "print(\"Random bit: \", bit)"
   ]
  },
  {
   "attachments": {},
   "cell_type": "markdown",
   "metadata": {},
   "source": [
    "## How about in the range of 0-100"
   ]
  },
  {
   "cell_type": "code",
   "execution_count": 4,
   "metadata": {},
   "outputs": [
    {
     "name": "stdout",
     "output_type": "stream",
     "text": [
      "Random Number:  5\n"
     ]
    }
   ],
   "source": [
    "circuit = QuantumCircuit(7, 7)\n",
    "\n",
    "#\n",
    "for i in range(7):\n",
    "    circuit.h(i)\n",
    "# \n",
    "for i in range(7):\n",
    "    circuit.measure(i,i)\n",
    "# \n",
    "backend = Aer.get_backend('qasm_simulator')\n",
    "job = execute(circuit, backend, shots=1)\n",
    "result = job.result()\n",
    "bit = int(list(result.get_counts().keys())[0],2)\n",
    "\n",
    "while bit>100:\n",
    "    job = execute(circuit, backend, shots=1)\n",
    "    result = job.result()\n",
    "    bit = int(list(result.get_counts().keys())[0],2)\n",
    "print(\"Random Number: \", bit)"
   ]
  },
  {
   "attachments": {},
   "cell_type": "markdown",
   "metadata": {},
   "source": [
    "## Let's Play a game with Quantum Randomness 🎮\n",
    "### Rock, Paper, Scissors... 🗿 📄 ✂️"
   ]
  },
  {
   "cell_type": "code",
   "execution_count": 5,
   "metadata": {},
   "outputs": [],
   "source": [
    "def evaluate(player,computer):\n",
    "    if player==computer:\n",
    "        return 'draw'\n",
    "    elif player=='Rock':\n",
    "        if computer=='Paper':\n",
    "            return 'computer'\n",
    "        elif computer=='Scissor':\n",
    "            return 'player'\n",
    "    elif player=='Paper':\n",
    "        if computer=='Rock':\n",
    "            return 'player'\n",
    "        elif computer=='Scissor':\n",
    "            return 'computer'\n",
    "    elif player=='Scissor':\n",
    "        if computer=='Rock':\n",
    "            return 'computer'\n",
    "        elif computer=='paper':\n",
    "            return 'player'"
   ]
  },
  {
   "cell_type": "code",
   "execution_count": 6,
   "metadata": {},
   "outputs": [],
   "source": [
    "def computer_play():\n",
    "    random_circuit=QuantumCircuit(2,2)\n",
    "    random_circuit.h(0)\n",
    "    random_circuit.h(1)\n",
    "    random_circuit.measure([0,1],[0,1])\n",
    "    backend = Aer.get_backend('qasm_simulator')\n",
    "    job = execute(random_circuit, backend, shots=1)\n",
    "    result = job.result()\n",
    "    bit = int(list(result.get_counts().keys())[0],2)\n",
    "\n",
    "    while bit>2:\n",
    "        job = execute(circuit, backend, shots=1)\n",
    "        result = job.result()\n",
    "        bit = int(list(result.get_counts().keys())[0],2)\n",
    "    return bit"
   ]
  },
  {
   "cell_type": "code",
   "execution_count": 7,
   "metadata": {},
   "outputs": [],
   "source": [
    "player_points=computer_points=0\n",
    "def leaderboard(key):\n",
    "    global player_points,computer_points\n",
    "    if key=='player':\n",
    "        player_points+=1\n",
    "    elif key=='computer':\n",
    "        computer_points+=1\n",
    "    else:\n",
    "        pass\n",
    "\n",
    "    print(f'your score: {player_points}\\ncomputer score: {computer_points}')"
   ]
  },
  {
   "cell_type": "code",
   "execution_count": null,
   "metadata": {},
   "outputs": [
    {
     "data": {
      "application/vnd.jupyter.widget-view+json": {
       "model_id": "2cc84e88a0aa4b4287eb09af87d0421b",
       "version_major": 2,
       "version_minor": 0
      },
      "text/plain": [
       "HBox(children=(Button(description='Rock', style=ButtonStyle()), Button(description='Paper', style=ButtonStyle(…"
      ]
     },
     "metadata": {},
     "output_type": "display_data"
    },
    {
     "name": "stdout",
     "output_type": "stream",
     "text": [
      "You played->Rock vs The Computer played->Paper\n",
      "your score: 3\n",
      "computer score: 9\n"
     ]
    }
   ],
   "source": [
    "l=['Rock','Paper','Scissor']\n",
    "rock_btn=pyw.Button(description='Rock')\n",
    "paper_btn=pyw.Button(description='Paper')\n",
    "scissor_btn=pyw.Button(description='Scissor')\n",
    "\n",
    "def upon_click(btn):\n",
    "    clear_output()\n",
    "    display(pyw.HBox([rock_btn,paper_btn,scissor_btn]))\n",
    "    your_choice=btn.description\n",
    "    computer_choice=l[computer_play()]\n",
    "    print(f'You played->{your_choice} vs The Computer played->{computer_choice}')\n",
    "    leaderboard(evaluate(your_choice,computer_choice))\n",
    "\n",
    "rock_btn.on_click(upon_click)\n",
    "paper_btn.on_click(upon_click)\n",
    "scissor_btn.on_click(upon_click)\n",
    "\n",
    "display(pyw.HBox([rock_btn,paper_btn,scissor_btn]))"
   ]
  }
 ],
 "metadata": {
  "kernelspec": {
   "display_name": "Python 3",
   "language": "python",
   "name": "python3"
  },
  "language_info": {
   "codemirror_mode": {
    "name": "ipython",
    "version": 3
   },
   "file_extension": ".py",
   "mimetype": "text/x-python",
   "name": "python",
   "nbconvert_exporter": "python",
   "pygments_lexer": "ipython3",
   "version": "3.8.9"
  },
  "orig_nbformat": 4,
  "vscode": {
   "interpreter": {
    "hash": "31f2aee4e71d21fbe5cf8b01ff0e069b9275f58929596ceb00d14d90e3e16cd6"
   }
  }
 },
 "nbformat": 4,
 "nbformat_minor": 2
}

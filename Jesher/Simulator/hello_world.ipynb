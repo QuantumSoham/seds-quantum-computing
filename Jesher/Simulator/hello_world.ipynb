{
 "cells": [
  {
   "attachments": {},
   "cell_type": "markdown",
   "metadata": {},
   "source": [
    "[![Open in Colab](https://colab.research.google.com/assets/colab-badge.svg)](https://colab.research.google.com/github/jesherjoshua/seds-quantum-computing/blob/mothership/Jesher/Simulator/hello_world.ipynb)"
   ]
  },
  {
   "attachments": {},
   "cell_type": "markdown",
   "metadata": {},
   "source": [
    "# Hello World 🙋‍♂️"
   ]
  },
  {
   "attachments": {},
   "cell_type": "markdown",
   "metadata": {},
   "source": [
    "## Import Qiskit"
   ]
  },
  {
   "cell_type": "code",
   "execution_count": 10,
   "metadata": {},
   "outputs": [
    {
     "name": "stdout",
     "output_type": "stream",
     "text": [
      "Defaulting to user installation because normal site-packages is not writeable\n",
      "Requirement already satisfied: qiskit in /Users/jesherjoshua/Library/Python/3.8/lib/python/site-packages (0.41.1)\n",
      "Requirement already satisfied: qiskit-ibmq-provider==0.20.1 in /Users/jesherjoshua/Library/Python/3.8/lib/python/site-packages (from qiskit) (0.20.1)\n",
      "Requirement already satisfied: qiskit-aer==0.11.2 in /Users/jesherjoshua/Library/Python/3.8/lib/python/site-packages (from qiskit) (0.11.2)\n",
      "Requirement already satisfied: qiskit-terra==0.23.2 in /Users/jesherjoshua/Library/Python/3.8/lib/python/site-packages (from qiskit) (0.23.2)\n",
      "Requirement already satisfied: scipy>=1.0 in /Users/jesherjoshua/Library/Python/3.8/lib/python/site-packages (from qiskit-aer==0.11.2->qiskit) (1.10.1)\n",
      "Requirement already satisfied: numpy>=1.16.3 in /Users/jesherjoshua/Library/Python/3.8/lib/python/site-packages (from qiskit-aer==0.11.2->qiskit) (1.23.5)\n",
      "Requirement already satisfied: websocket-client~=1.5.1 in /Users/jesherjoshua/Library/Python/3.8/lib/python/site-packages (from qiskit-ibmq-provider==0.20.1->qiskit) (1.5.1)\n",
      "Requirement already satisfied: urllib3~=1.26.0 in /Users/jesherjoshua/Library/Python/3.8/lib/python/site-packages (from qiskit-ibmq-provider==0.20.1->qiskit) (1.26.11)\n",
      "Requirement already satisfied: websockets~=10.0 in /Users/jesherjoshua/Library/Python/3.8/lib/python/site-packages (from qiskit-ibmq-provider==0.20.1->qiskit) (10.4)\n",
      "Requirement already satisfied: python-dateutil~=2.8.0 in /Users/jesherjoshua/Library/Python/3.8/lib/python/site-packages (from qiskit-ibmq-provider==0.20.1->qiskit) (2.8.2)\n",
      "Requirement already satisfied: requests~=2.28.0 in /Users/jesherjoshua/Library/Python/3.8/lib/python/site-packages (from qiskit-ibmq-provider==0.20.1->qiskit) (2.28.2)\n",
      "Requirement already satisfied: requests-ntlm~=1.1.0 in /Users/jesherjoshua/Library/Python/3.8/lib/python/site-packages (from qiskit-ibmq-provider==0.20.1->qiskit) (1.1.0)\n",
      "Requirement already satisfied: ply>=3.10 in /Users/jesherjoshua/Library/Python/3.8/lib/python/site-packages (from qiskit-terra==0.23.2->qiskit) (3.11)\n",
      "Requirement already satisfied: stevedore>=3.0.0 in /Users/jesherjoshua/Library/Python/3.8/lib/python/site-packages (from qiskit-terra==0.23.2->qiskit) (5.0.0)\n",
      "Requirement already satisfied: rustworkx>=0.12.0 in /Users/jesherjoshua/Library/Python/3.8/lib/python/site-packages (from qiskit-terra==0.23.2->qiskit) (0.12.1)\n",
      "Requirement already satisfied: psutil>=5 in /Users/jesherjoshua/Library/Python/3.8/lib/python/site-packages (from qiskit-terra==0.23.2->qiskit) (5.9.1)\n",
      "Requirement already satisfied: sympy>=1.3 in /Users/jesherjoshua/Library/Python/3.8/lib/python/site-packages (from qiskit-terra==0.23.2->qiskit) (1.11.1)\n",
      "Requirement already satisfied: dill>=0.3 in /Users/jesherjoshua/Library/Python/3.8/lib/python/site-packages (from qiskit-terra==0.23.2->qiskit) (0.3.5.1)\n",
      "Requirement already satisfied: symengine>=0.9 in /Users/jesherjoshua/Library/Python/3.8/lib/python/site-packages (from qiskit-terra==0.23.2->qiskit) (0.9.2)\n",
      "Requirement already satisfied: six>=1.5 in /Library/Developer/CommandLineTools/Library/Frameworks/Python3.framework/Versions/3.8/lib/python3.8/site-packages (from python-dateutil~=2.8.0->qiskit-ibmq-provider==0.20.1->qiskit) (1.15.0)\n",
      "Requirement already satisfied: idna<4,>=2.5 in /Users/jesherjoshua/Library/Python/3.8/lib/python/site-packages (from requests~=2.28.0->qiskit-ibmq-provider==0.20.1->qiskit) (2.10)\n",
      "Requirement already satisfied: certifi>=2017.4.17 in /Users/jesherjoshua/Library/Python/3.8/lib/python/site-packages (from requests~=2.28.0->qiskit-ibmq-provider==0.20.1->qiskit) (2022.12.7)\n",
      "Requirement already satisfied: charset-normalizer<4,>=2 in /Users/jesherjoshua/Library/Python/3.8/lib/python/site-packages (from requests~=2.28.0->qiskit-ibmq-provider==0.20.1->qiskit) (2.0.4)\n",
      "Requirement already satisfied: cryptography>=1.3 in /Users/jesherjoshua/Library/Python/3.8/lib/python/site-packages (from requests-ntlm~=1.1.0->qiskit-ibmq-provider==0.20.1->qiskit) (39.0.2)\n",
      "Requirement already satisfied: ntlm-auth>=1.0.2 in /Users/jesherjoshua/Library/Python/3.8/lib/python/site-packages (from requests-ntlm~=1.1.0->qiskit-ibmq-provider==0.20.1->qiskit) (1.5.0)\n",
      "Requirement already satisfied: pbr!=2.1.0,>=2.0.0 in /Users/jesherjoshua/Library/Python/3.8/lib/python/site-packages (from stevedore>=3.0.0->qiskit-terra==0.23.2->qiskit) (5.11.1)\n",
      "Requirement already satisfied: mpmath>=0.19 in /Users/jesherjoshua/Library/Python/3.8/lib/python/site-packages (from sympy>=1.3->qiskit-terra==0.23.2->qiskit) (1.2.1)\n",
      "Requirement already satisfied: cffi>=1.12 in /Users/jesherjoshua/Library/Python/3.8/lib/python/site-packages (from cryptography>=1.3->requests-ntlm~=1.1.0->qiskit-ibmq-provider==0.20.1->qiskit) (1.15.0)\n",
      "Requirement already satisfied: pycparser in /Users/jesherjoshua/Library/Python/3.8/lib/python/site-packages (from cffi>=1.12->cryptography>=1.3->requests-ntlm~=1.1.0->qiskit-ibmq-provider==0.20.1->qiskit) (2.20)\n",
      "\u001b[33mWARNING: You are using pip version 22.0.3; however, version 23.1.2 is available.\n",
      "You should consider upgrading via the '/Library/Developer/CommandLineTools/usr/bin/python3 -m pip install --upgrade pip' command.\u001b[0m\u001b[33m\n",
      "\u001b[0mDefaulting to user installation because normal site-packages is not writeable\n",
      "Requirement already satisfied: pylatexenc in /Users/jesherjoshua/Library/Python/3.8/lib/python/site-packages (2.10)\n",
      "\u001b[33mWARNING: You are using pip version 22.0.3; however, version 23.1.2 is available.\n",
      "You should consider upgrading via the '/Library/Developer/CommandLineTools/usr/bin/python3 -m pip install --upgrade pip' command.\u001b[0m\u001b[33m\n",
      "\u001b[0m"
     ]
    }
   ],
   "source": [
    "!pip3 install qiskit\n",
    "!pip3 install pylatexenc"
   ]
  },
  {
   "cell_type": "code",
   "execution_count": 11,
   "metadata": {},
   "outputs": [],
   "source": [
    "from qiskit import *\n",
    "import matplotlib.pyplot as plt\n",
    "from qiskit.tools.visualization import plot_histogram"
   ]
  },
  {
   "attachments": {},
   "cell_type": "markdown",
   "metadata": {},
   "source": [
    "## Declare your Registers"
   ]
  },
  {
   "cell_type": "code",
   "execution_count": 12,
   "metadata": {},
   "outputs": [],
   "source": [
    "qr=QuantumRegister(1)\n",
    "cr=ClassicalRegister(1)\n"
   ]
  },
  {
   "cell_type": "markdown",
   "metadata": {},
   "source": [
    "## Make your Circuit"
   ]
  },
  {
   "cell_type": "code",
   "execution_count": 13,
   "metadata": {},
   "outputs": [
    {
     "data": {
      "text/plain": [
       "<qiskit.circuit.instructionset.InstructionSet at 0x11e38c5e0>"
      ]
     },
     "execution_count": 13,
     "metadata": {},
     "output_type": "execute_result"
    }
   ],
   "source": [
    "circ=QuantumCircuit(qr,cr)\n",
    "circ.measure(qr,cr)"
   ]
  },
  {
   "cell_type": "code",
   "execution_count": 14,
   "metadata": {},
   "outputs": [
    {
     "data": {
      "image/png": "[encoded data removed]",
      "text/plain": [
       "<Figure size 440.392x433.44 with 1 Axes>"
      ]
     },
     "execution_count": 14,
     "metadata": {},
     "output_type": "execute_result"
    }
   ],
   "source": [
    "circ.draw('mpl',scale=3)"
   ]
  },
  {
   "attachments": {},
   "cell_type": "markdown",
   "metadata": {},
   "source": [
    "## Choose your simulator"
   ]
  },
  {
   "cell_type": "code",
   "execution_count": 15,
   "metadata": {},
   "outputs": [],
   "source": [
    "simulator=BasicAer.get_backend('qasm_simulator')"
   ]
  },
  {
   "attachments": {},
   "cell_type": "markdown",
   "metadata": {},
   "source": [
    "## Run Your Circuit 🏃‍♂️"
   ]
  },
  {
   "cell_type": "code",
   "execution_count": 16,
   "metadata": {},
   "outputs": [],
   "source": [
    "#circ.h(0)\n",
    "#circ.measure(0,0)\n",
    "job=execute(circ,simulator,shots=1000)"
   ]
  },
  {
   "attachments": {},
   "cell_type": "markdown",
   "metadata": {},
   "source": [
    "## View the Results 👀"
   ]
  },
  {
   "cell_type": "code",
   "execution_count": 17,
   "metadata": {},
   "outputs": [
    {
     "name": "stdout",
     "output_type": "stream",
     "text": [
      "{'0': 1000}\n"
     ]
    },
    {
     "data": {
      "image/png": "[encoded data removed]",
      "text/plain": [
       "<Figure size 432x288 with 1 Axes>"
      ]
     },
     "metadata": {
      "needs_background": "light"
     },
     "output_type": "display_data"
    }
   ],
   "source": [
    "print(job.result().get_counts())\n",
    "\n",
    "cont=plt.bar(job.result().get_counts().keys(),job.result().get_counts().values())\n",
    "plt.bar_label(cont)\n",
    "plt.show()"
   ]
  },
  {
   "cell_type": "code",
   "execution_count": 18,
   "metadata": {},
   "outputs": [
    {
     "data": {
      "image/png": "[encoded data removed]",
      "text/plain": [
       "<Figure size 504x360 with 1 Axes>"
      ]
     },
     "execution_count": 18,
     "metadata": {},
     "output_type": "execute_result"
    }
   ],
   "source": [
    "plot_histogram(job.result().get_counts())"
   ]
  }
 ],
 "metadata": {
  "kernelspec": {
   "display_name": "Python 3",
   "language": "python",
   "name": "python3"
  },
  "language_info": {
   "codemirror_mode": {
    "name": "ipython",
    "version": 3
   },
   "file_extension": ".py",
   "mimetype": "text/x-python",
   "name": "python",
   "nbconvert_exporter": "python",
   "pygments_lexer": "ipython3",
   "version": "3.8.9"
  },
  "orig_nbformat": 4,
  "vscode": {
   "interpreter": {
    "hash": "31f2aee4e71d21fbe5cf8b01ff0e069b9275f58929596ceb00d14d90e3e16cd6"
   }
  }
 },
 "nbformat": 4,
 "nbformat_minor": 2
}
